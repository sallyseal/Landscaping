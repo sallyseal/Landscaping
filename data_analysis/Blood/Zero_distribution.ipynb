{
 "cells": [
  {
   "cell_type": "code",
   "execution_count": null,
   "metadata": {
    "collapsed": true
   },
   "outputs": [],
   "source": [
    "# This script imports the combined data file where all 0 values are replaced with 1 and all non-zero values are\n",
    "# replaced with 0\n",
    "# It produces a scatter plot of the 1's which is then a way to visualize the distribution of 0's in the dataset"
   ]
  },
  {
   "cell_type": "code",
   "execution_count": 2,
   "metadata": {
    "collapsed": false
   },
   "outputs": [
    {
     "data": {
      "text/plain": [
       "df2array (generic function with 1 method)"
      ]
     },
     "execution_count": 2,
     "metadata": {},
     "output_type": "execute_result"
    }
   ],
   "source": [
    "# Define the df2array function as Plots needs to plot from a data_array\n",
    "\n",
    "function df2array(df)\n",
    "    data_array = convert(Array, df)\n",
    "    data_array = reshape(data_array,(nrow(df), ncol(df)))\n",
    "    return data_array\n",
    "end"
   ]
  },
  {
   "cell_type": "code",
   "execution_count": null,
   "metadata": {
    "collapsed": false
   },
   "outputs": [],
   "source": []
  },
  {
   "cell_type": "code",
   "execution_count": 3,
   "metadata": {
    "collapsed": false
   },
   "outputs": [
    {
     "data": {
      "text/plain": [
       "806x90 Array{Int64,2}:\n",
       " 1  1  0  0  0  1  0  1  0  0  1  1  1  …  1  1  1  1  0  0  0  1  0  1  1  0\n",
       " 1  1  0  1  1  1  1  1  1  1  0  1  1     1  1  1  1  1  1  0  1  1  1  1  1\n",
       " 1  1  0  1  1  1  1  1  1  1  1  1  1     1  1  1  1  1  1  0  1  1  1  1  1\n",
       " 1  1  0  1  1  1  1  1  0  1  1  0  1     1  1  1  1  1  0  0  1  1  1  0  1\n",
       " 1  1  0  1  1  1  1  1  1  0  0  1  1     1  0  1  1  0  1  0  1  0  1  1  0\n",
       " 1  1  0  1  1  1  1  0  0  1  0  0  0  …  1  1  1  1  0  0  0  1  1  1  1  0\n",
       " 1  1  0  1  1  1  1  1  0  1  0  1  1     1  0  1  0  1  0  0  1  1  1  1  1\n",
       " 1  0  0  1  1  1  0  1  0  0  0  1  1     1  1  1  0  0  0  0  1  0  1  0  1\n",
       " 1  1  0  1  0  1  1  1  1  1  0  1  0     1  1  1  0  1  0  1  1  1  1  1  1\n",
       " 1  1  0  1  1  1  1  1  1  0  1  1  1     1  1  1  0  0  0  0  1  0  1  1  0\n",
       " 1  1  0  1  1  1  0  1  0  1  0  0  0  …  1  0  1  1  0  1  0  1  0  1  1  1\n",
       " 1  0  0  1  1  1  0  1  0  1  0  1  1     1  1  1  0  0  1  0  1  1  0  1  1\n",
       " 1  1  0  0  1  1  1  1  1  1  1  1  1     1  1  1  0  0  0  0  1  1  1  0  1\n",
       " ⋮              ⋮              ⋮        ⋱        ⋮              ⋮            \n",
       " 1  0  0  1  1  1  0  0  0  0  0  1  1     1  1  1  1  0  0  0  1  1  1  1  0\n",
       " 1  0  0  1  0  1  1  1  1  0  0  0  1  …  1  1  1  1  0  0  0  1  0  1  1  0\n",
       " 1  0  0  1  1  1  1  1  0  1  0  1  1     1  1  1  1  0  0  0  1  1  1  1  0\n",
       " 1  0  0  0  0  1  1  1  0  0  0  1  1     1  0  1  0  0  0  0  1  0  1  1  0\n",
       " 1  1  0  0  1  1  1  0  0  0  0  0  1     1  1  1  0  1  0  0  1  1  1  1  1\n",
       " 1  1  0  1  1  1  1  1  0  0  0  1  1     1  1  1  0  0  0  0  1  0  1  1  0\n",
       " 1  0  0  0  0  1  1  1  0  1  0  1  1  …  1  1  1  0  0  0  0  1  0  1  1  1\n",
       " 1  0  0  1  1  1  1  1  0  1  0  1  1     1  1  1  0  0  0  0  1  0  1  0  1\n",
       " 1  1  0  1  1  1  0  1  0  0  0  1  0     1  1  1  0  1  0  0  1  0  1  1  1\n",
       " 1  0  0  1  1  1  1  1  1  1  0  1  1     1  0  1  1  1  0  0  1  0  0  1  1\n",
       " 1  0  0  1  0  1  1  1  1  1  0  1  1     1  1  1  0  1  0  0  1  1  1  0  1\n",
       " 1  1  0  1  1  1  1  1  1  0  0  1  1  …  1  1  1  1  0  0  0  1  0  1  1  1"
      ]
     },
     "execution_count": 3,
     "metadata": {},
     "output_type": "execute_result"
    }
   ],
   "source": [
    "using DataFrames;\n",
    "using Plots;\n",
    "\n",
    "# Import the file of interest\n",
    "df = readtable(\"combined_data_1_0_T_noh.csv\")\n",
    "\n",
    "# Convert to data_array for plotting purposes\n",
    "data_array = df2array(df)\n",
    "\n",
    "# Plot a scatter of the data_array\n",
    "x=collect(1.:1.:90)\n",
    "y=collect(1.:1.:806)\n",
    "Plots.scatter(x,y,data_array)\n",
    "\n"
   ]
  },
  {
   "cell_type": "code",
   "execution_count": 7,
   "metadata": {
    "collapsed": false
   },
   "outputs": [
    {
     "name": "stderr",
     "output_type": "stream",
     "text": [
      "WARNING: New definition \n",
      "    +(AbstractArray{T<:Any, 2}, WoodburyMatrices.SymWoodbury) at /home/megan/.julia/v0.4/WoodburyMatrices/src/SymWoodburyMatrices.jl:138\n",
      "is ambiguous with: \n",
      "    +(DataArrays.DataArray, AbstractArray) at /home/megan/.julia/v0.4/DataArrays/src/operators.jl:276.\n",
      "To fix, define \n",
      "    +(DataArrays.DataArray{T<:Any, 2}, WoodburyMatrices.SymWoodbury)\n",
      "before the new definition.\n",
      "WARNING: New definition \n",
      "    +(AbstractArray{T<:Any, 2}, WoodburyMatrices.SymWoodbury) at /home/megan/.julia/v0.4/WoodburyMatrices/src/SymWoodburyMatrices.jl:138\n",
      "is ambiguous with: \n",
      "    +(DataArrays.AbstractDataArray, AbstractArray) at /home/megan/.julia/v0.4/DataArrays/src/operators.jl:300.\n",
      "To fix, define \n",
      "    +(DataArrays.AbstractDataArray{T<:Any, 2}, WoodburyMatrices.SymWoodbury)\n",
      "before the new definition.\n",
      "WARNING: New definition \n",
      "    write(Base.IO, ForwardDiff.Partials) at /home/megan/.julia/v0.4/ForwardDiff/src/partials.jl:57\n",
      "is ambiguous with: \n",
      "    write(Base.Base64.Base64EncodePipe, AbstractArray{UInt8, 1}) at base64.jl:89.\n",
      "To fix, define \n",
      "    write(Base.Base64.Base64EncodePipe, ForwardDiff.Partials{N<:Any, UInt8})\n",
      "before the new definition.\n"
     ]
    },
    {
     "ename": "LoadError",
     "evalue": "UndefVarError: @df not defined",
     "output_type": "error",
     "traceback": [
      "UndefVarError: @df not defined",
      ""
     ]
    }
   ],
   "source": [
    "using StatPlots;\n",
    "\n",
    "@df scatter(:, :, title=\"My DataFrame Scatter Plot!\") # x = :a, y = :b"
   ]
  },
  {
   "cell_type": "code",
   "execution_count": null,
   "metadata": {
    "collapsed": true
   },
   "outputs": [],
   "source": []
  }
 ],
 "metadata": {
  "kernelspec": {
   "display_name": "Julia 0.4.7",
   "language": "julia",
   "name": "julia-0.4"
  },
  "language_info": {
   "file_extension": ".jl",
   "mimetype": "application/julia",
   "name": "julia",
   "version": "0.4.7"
  }
 },
 "nbformat": 4,
 "nbformat_minor": 2
}
