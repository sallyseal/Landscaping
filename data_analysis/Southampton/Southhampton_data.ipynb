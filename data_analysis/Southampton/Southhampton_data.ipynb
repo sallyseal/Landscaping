{
 "cells": [
  {
   "cell_type": "code",
   "execution_count": 1,
   "metadata": {
    "collapsed": false
   },
   "outputs": [
    {
     "data": {
      "text/plain": [
       "'0.19.2'"
      ]
     },
     "execution_count": 1,
     "metadata": {},
     "output_type": "execute_result"
    }
   ],
   "source": [
    "import pandas as pd\n",
    "pd.__version__"
   ]
  },
  {
   "cell_type": "code",
   "execution_count": 2,
   "metadata": {
    "collapsed": true
   },
   "outputs": [],
   "source": [
    "import numpy as np"
   ]
  },
  {
   "cell_type": "code",
   "execution_count": 3,
   "metadata": {
    "collapsed": false
   },
   "outputs": [],
   "source": [
    "df1 = pd.read_csv(\"out.csv\", sep=' ')"
   ]
  },
  {
   "cell_type": "code",
   "execution_count": 4,
   "metadata": {
    "collapsed": false
   },
   "outputs": [
    {
     "data": {
      "text/html": [
       "<div>\n",
       "<table border=\"1\" class=\"dataframe\">\n",
       "  <thead>\n",
       "    <tr style=\"text-align: right;\">\n",
       "      <th></th>\n",
       "      <th>Actb</th>\n",
       "      <th>Bmi1</th>\n",
       "      <th>Bmp4</th>\n",
       "      <th>Bmp7</th>\n",
       "      <th>Bmpr1a</th>\n",
       "      <th>Cd34</th>\n",
       "      <th>Cdh1</th>\n",
       "      <th>Cdh2</th>\n",
       "      <th>Cdk2</th>\n",
       "      <th>Cdx2</th>\n",
       "      <th>...</th>\n",
       "      <th>Tgm2</th>\n",
       "      <th>Trp53</th>\n",
       "      <th>Tubb3</th>\n",
       "      <th>Utf1</th>\n",
       "      <th>Vim</th>\n",
       "      <th>Wdr5</th>\n",
       "      <th>Wnt3a</th>\n",
       "      <th>Wnt5a</th>\n",
       "      <th>Zfp281</th>\n",
       "      <th>Zfp42</th>\n",
       "    </tr>\n",
       "  </thead>\n",
       "  <tbody>\n",
       "    <tr>\n",
       "      <th>0</th>\n",
       "      <td>16.720832</td>\n",
       "      <td>10.552399</td>\n",
       "      <td>11.137141</td>\n",
       "      <td>0.000000</td>\n",
       "      <td>10.681368</td>\n",
       "      <td>0.000000</td>\n",
       "      <td>0.00000</td>\n",
       "      <td>8.131784</td>\n",
       "      <td>13.101243</td>\n",
       "      <td>0.0</td>\n",
       "      <td>...</td>\n",
       "      <td>10.199417</td>\n",
       "      <td>13.990968</td>\n",
       "      <td>12.947217</td>\n",
       "      <td>8.246675</td>\n",
       "      <td>15.868633</td>\n",
       "      <td>12.380048</td>\n",
       "      <td>0.0</td>\n",
       "      <td>9.479991</td>\n",
       "      <td>12.918684</td>\n",
       "      <td>14.378189</td>\n",
       "    </tr>\n",
       "    <tr>\n",
       "      <th>1</th>\n",
       "      <td>16.950440</td>\n",
       "      <td>7.819512</td>\n",
       "      <td>12.813427</td>\n",
       "      <td>8.644999</td>\n",
       "      <td>9.971894</td>\n",
       "      <td>0.000000</td>\n",
       "      <td>5.18228</td>\n",
       "      <td>8.367979</td>\n",
       "      <td>13.775482</td>\n",
       "      <td>0.0</td>\n",
       "      <td>...</td>\n",
       "      <td>9.868370</td>\n",
       "      <td>11.882327</td>\n",
       "      <td>12.285330</td>\n",
       "      <td>0.000000</td>\n",
       "      <td>15.984964</td>\n",
       "      <td>14.012475</td>\n",
       "      <td>0.0</td>\n",
       "      <td>0.000000</td>\n",
       "      <td>14.098621</td>\n",
       "      <td>16.309727</td>\n",
       "    </tr>\n",
       "    <tr>\n",
       "      <th>2</th>\n",
       "      <td>16.585537</td>\n",
       "      <td>0.000000</td>\n",
       "      <td>12.467194</td>\n",
       "      <td>0.000000</td>\n",
       "      <td>10.716559</td>\n",
       "      <td>0.000000</td>\n",
       "      <td>0.00000</td>\n",
       "      <td>0.000000</td>\n",
       "      <td>13.722035</td>\n",
       "      <td>0.0</td>\n",
       "      <td>...</td>\n",
       "      <td>0.000000</td>\n",
       "      <td>13.617123</td>\n",
       "      <td>13.325254</td>\n",
       "      <td>9.930650</td>\n",
       "      <td>15.697888</td>\n",
       "      <td>13.530741</td>\n",
       "      <td>0.0</td>\n",
       "      <td>0.000000</td>\n",
       "      <td>14.342969</td>\n",
       "      <td>15.674892</td>\n",
       "    </tr>\n",
       "    <tr>\n",
       "      <th>3</th>\n",
       "      <td>17.313634</td>\n",
       "      <td>10.094540</td>\n",
       "      <td>12.770269</td>\n",
       "      <td>0.000000</td>\n",
       "      <td>10.812278</td>\n",
       "      <td>0.000000</td>\n",
       "      <td>0.00000</td>\n",
       "      <td>0.000000</td>\n",
       "      <td>12.992038</td>\n",
       "      <td>0.0</td>\n",
       "      <td>...</td>\n",
       "      <td>0.000000</td>\n",
       "      <td>13.639962</td>\n",
       "      <td>13.693003</td>\n",
       "      <td>13.277669</td>\n",
       "      <td>16.627828</td>\n",
       "      <td>13.810295</td>\n",
       "      <td>0.0</td>\n",
       "      <td>0.000000</td>\n",
       "      <td>14.545973</td>\n",
       "      <td>16.712376</td>\n",
       "    </tr>\n",
       "    <tr>\n",
       "      <th>4</th>\n",
       "      <td>17.735432</td>\n",
       "      <td>6.993295</td>\n",
       "      <td>13.490686</td>\n",
       "      <td>0.000000</td>\n",
       "      <td>11.558709</td>\n",
       "      <td>8.776877</td>\n",
       "      <td>0.00000</td>\n",
       "      <td>8.096469</td>\n",
       "      <td>13.745281</td>\n",
       "      <td>0.0</td>\n",
       "      <td>...</td>\n",
       "      <td>0.000000</td>\n",
       "      <td>14.130701</td>\n",
       "      <td>14.532811</td>\n",
       "      <td>13.286995</td>\n",
       "      <td>16.976943</td>\n",
       "      <td>13.274383</td>\n",
       "      <td>0.0</td>\n",
       "      <td>9.890605</td>\n",
       "      <td>15.337588</td>\n",
       "      <td>17.073253</td>\n",
       "    </tr>\n",
       "  </tbody>\n",
       "</table>\n",
       "<p>5 rows × 96 columns</p>\n",
       "</div>"
      ],
      "text/plain": [
       "        Actb       Bmi1       Bmp4      Bmp7     Bmpr1a      Cd34     Cdh1  \\\n",
       "0  16.720832  10.552399  11.137141  0.000000  10.681368  0.000000  0.00000   \n",
       "1  16.950440   7.819512  12.813427  8.644999   9.971894  0.000000  5.18228   \n",
       "2  16.585537   0.000000  12.467194  0.000000  10.716559  0.000000  0.00000   \n",
       "3  17.313634  10.094540  12.770269  0.000000  10.812278  0.000000  0.00000   \n",
       "4  17.735432   6.993295  13.490686  0.000000  11.558709  8.776877  0.00000   \n",
       "\n",
       "       Cdh2       Cdk2  Cdx2    ...           Tgm2      Trp53      Tubb3  \\\n",
       "0  8.131784  13.101243   0.0    ...      10.199417  13.990968  12.947217   \n",
       "1  8.367979  13.775482   0.0    ...       9.868370  11.882327  12.285330   \n",
       "2  0.000000  13.722035   0.0    ...       0.000000  13.617123  13.325254   \n",
       "3  0.000000  12.992038   0.0    ...       0.000000  13.639962  13.693003   \n",
       "4  8.096469  13.745281   0.0    ...       0.000000  14.130701  14.532811   \n",
       "\n",
       "        Utf1        Vim       Wdr5  Wnt3a     Wnt5a     Zfp281      Zfp42  \n",
       "0   8.246675  15.868633  12.380048    0.0  9.479991  12.918684  14.378189  \n",
       "1   0.000000  15.984964  14.012475    0.0  0.000000  14.098621  16.309727  \n",
       "2   9.930650  15.697888  13.530741    0.0  0.000000  14.342969  15.674892  \n",
       "3  13.277669  16.627828  13.810295    0.0  0.000000  14.545973  16.712376  \n",
       "4  13.286995  16.976943  13.274383    0.0  9.890605  15.337588  17.073253  \n",
       "\n",
       "[5 rows x 96 columns]"
      ]
     },
     "execution_count": 4,
     "metadata": {},
     "output_type": "execute_result"
    }
   ],
   "source": [
    "df1.head()"
   ]
  },
  {
   "cell_type": "code",
   "execution_count": 5,
   "metadata": {
    "collapsed": false
   },
   "outputs": [],
   "source": [
    "df2 = pd.read_csv('annotation1.txt', sep=\"\\t\")"
   ]
  },
  {
   "cell_type": "markdown",
   "metadata": {},
   "source": []
  },
  {
   "cell_type": "code",
   "execution_count": 6,
   "metadata": {
    "collapsed": false
   },
   "outputs": [
    {
     "data": {
      "text/html": [
       "<div>\n",
       "<table border=\"1\" class=\"dataframe\">\n",
       "  <thead>\n",
       "    <tr style=\"text-align: right;\">\n",
       "      <th></th>\n",
       "      <th>Time</th>\n",
       "      <th>Line</th>\n",
       "      <th>ThreeST</th>\n",
       "      <th>2ST</th>\n",
       "    </tr>\n",
       "  </thead>\n",
       "  <tbody>\n",
       "    <tr>\n",
       "      <th>0</th>\n",
       "      <td>0</td>\n",
       "      <td>E14tg2a</td>\n",
       "      <td>ESC</td>\n",
       "      <td>alpha</td>\n",
       "    </tr>\n",
       "    <tr>\n",
       "      <th>1</th>\n",
       "      <td>0</td>\n",
       "      <td>E14tg2a</td>\n",
       "      <td>ESC</td>\n",
       "      <td>alpha</td>\n",
       "    </tr>\n",
       "    <tr>\n",
       "      <th>2</th>\n",
       "      <td>0</td>\n",
       "      <td>E14tg2a</td>\n",
       "      <td>ESC</td>\n",
       "      <td>alpha</td>\n",
       "    </tr>\n",
       "    <tr>\n",
       "      <th>3</th>\n",
       "      <td>0</td>\n",
       "      <td>E14tg2a</td>\n",
       "      <td>ESC</td>\n",
       "      <td>alpha</td>\n",
       "    </tr>\n",
       "    <tr>\n",
       "      <th>4</th>\n",
       "      <td>0</td>\n",
       "      <td>E14tg2a</td>\n",
       "      <td>ESC</td>\n",
       "      <td>alpha</td>\n",
       "    </tr>\n",
       "  </tbody>\n",
       "</table>\n",
       "</div>"
      ],
      "text/plain": [
       "   Time     Line ThreeST    2ST\n",
       "0     0  E14tg2a     ESC  alpha\n",
       "1     0  E14tg2a     ESC  alpha\n",
       "2     0  E14tg2a     ESC  alpha\n",
       "3     0  E14tg2a     ESC  alpha\n",
       "4     0  E14tg2a     ESC  alpha"
      ]
     },
     "execution_count": 6,
     "metadata": {},
     "output_type": "execute_result"
    }
   ],
   "source": [
    "df2.head()"
   ]
  },
  {
   "cell_type": "code",
   "execution_count": 7,
   "metadata": {
    "collapsed": false
   },
   "outputs": [
    {
     "data": {
      "text/plain": [
       "(547, 4)"
      ]
     },
     "execution_count": 7,
     "metadata": {},
     "output_type": "execute_result"
    }
   ],
   "source": [
    "df2.shape"
   ]
  },
  {
   "cell_type": "code",
   "execution_count": 10,
   "metadata": {
    "collapsed": true
   },
   "outputs": [],
   "source": [
    "df3 = df2.join(df1)"
   ]
  },
  {
   "cell_type": "code",
   "execution_count": 11,
   "metadata": {
    "collapsed": false
   },
   "outputs": [
    {
     "data": {
      "text/html": [
       "<div>\n",
       "<table border=\"1\" class=\"dataframe\">\n",
       "  <thead>\n",
       "    <tr style=\"text-align: right;\">\n",
       "      <th></th>\n",
       "      <th>Time</th>\n",
       "      <th>Line</th>\n",
       "      <th>ThreeST</th>\n",
       "      <th>2ST</th>\n",
       "      <th>Actb</th>\n",
       "      <th>Bmi1</th>\n",
       "      <th>Bmp4</th>\n",
       "      <th>Bmp7</th>\n",
       "      <th>Bmpr1a</th>\n",
       "      <th>Cd34</th>\n",
       "      <th>...</th>\n",
       "      <th>Tgm2</th>\n",
       "      <th>Trp53</th>\n",
       "      <th>Tubb3</th>\n",
       "      <th>Utf1</th>\n",
       "      <th>Vim</th>\n",
       "      <th>Wdr5</th>\n",
       "      <th>Wnt3a</th>\n",
       "      <th>Wnt5a</th>\n",
       "      <th>Zfp281</th>\n",
       "      <th>Zfp42</th>\n",
       "    </tr>\n",
       "  </thead>\n",
       "  <tbody>\n",
       "    <tr>\n",
       "      <th>0</th>\n",
       "      <td>0</td>\n",
       "      <td>E14tg2a</td>\n",
       "      <td>ESC</td>\n",
       "      <td>alpha</td>\n",
       "      <td>16.720832</td>\n",
       "      <td>10.552399</td>\n",
       "      <td>11.137141</td>\n",
       "      <td>0.000000</td>\n",
       "      <td>10.681368</td>\n",
       "      <td>0.000000</td>\n",
       "      <td>...</td>\n",
       "      <td>10.199417</td>\n",
       "      <td>13.990968</td>\n",
       "      <td>12.947217</td>\n",
       "      <td>8.246675</td>\n",
       "      <td>15.868633</td>\n",
       "      <td>12.380048</td>\n",
       "      <td>0.0</td>\n",
       "      <td>9.479991</td>\n",
       "      <td>12.918684</td>\n",
       "      <td>14.378189</td>\n",
       "    </tr>\n",
       "    <tr>\n",
       "      <th>1</th>\n",
       "      <td>0</td>\n",
       "      <td>E14tg2a</td>\n",
       "      <td>ESC</td>\n",
       "      <td>alpha</td>\n",
       "      <td>16.950440</td>\n",
       "      <td>7.819512</td>\n",
       "      <td>12.813427</td>\n",
       "      <td>8.644999</td>\n",
       "      <td>9.971894</td>\n",
       "      <td>0.000000</td>\n",
       "      <td>...</td>\n",
       "      <td>9.868370</td>\n",
       "      <td>11.882327</td>\n",
       "      <td>12.285330</td>\n",
       "      <td>0.000000</td>\n",
       "      <td>15.984964</td>\n",
       "      <td>14.012475</td>\n",
       "      <td>0.0</td>\n",
       "      <td>0.000000</td>\n",
       "      <td>14.098621</td>\n",
       "      <td>16.309727</td>\n",
       "    </tr>\n",
       "    <tr>\n",
       "      <th>2</th>\n",
       "      <td>0</td>\n",
       "      <td>E14tg2a</td>\n",
       "      <td>ESC</td>\n",
       "      <td>alpha</td>\n",
       "      <td>16.585537</td>\n",
       "      <td>0.000000</td>\n",
       "      <td>12.467194</td>\n",
       "      <td>0.000000</td>\n",
       "      <td>10.716559</td>\n",
       "      <td>0.000000</td>\n",
       "      <td>...</td>\n",
       "      <td>0.000000</td>\n",
       "      <td>13.617123</td>\n",
       "      <td>13.325254</td>\n",
       "      <td>9.930650</td>\n",
       "      <td>15.697888</td>\n",
       "      <td>13.530741</td>\n",
       "      <td>0.0</td>\n",
       "      <td>0.000000</td>\n",
       "      <td>14.342969</td>\n",
       "      <td>15.674892</td>\n",
       "    </tr>\n",
       "    <tr>\n",
       "      <th>3</th>\n",
       "      <td>0</td>\n",
       "      <td>E14tg2a</td>\n",
       "      <td>ESC</td>\n",
       "      <td>alpha</td>\n",
       "      <td>17.313634</td>\n",
       "      <td>10.094540</td>\n",
       "      <td>12.770269</td>\n",
       "      <td>0.000000</td>\n",
       "      <td>10.812278</td>\n",
       "      <td>0.000000</td>\n",
       "      <td>...</td>\n",
       "      <td>0.000000</td>\n",
       "      <td>13.639962</td>\n",
       "      <td>13.693003</td>\n",
       "      <td>13.277669</td>\n",
       "      <td>16.627828</td>\n",
       "      <td>13.810295</td>\n",
       "      <td>0.0</td>\n",
       "      <td>0.000000</td>\n",
       "      <td>14.545973</td>\n",
       "      <td>16.712376</td>\n",
       "    </tr>\n",
       "    <tr>\n",
       "      <th>4</th>\n",
       "      <td>0</td>\n",
       "      <td>E14tg2a</td>\n",
       "      <td>ESC</td>\n",
       "      <td>alpha</td>\n",
       "      <td>17.735432</td>\n",
       "      <td>6.993295</td>\n",
       "      <td>13.490686</td>\n",
       "      <td>0.000000</td>\n",
       "      <td>11.558709</td>\n",
       "      <td>8.776877</td>\n",
       "      <td>...</td>\n",
       "      <td>0.000000</td>\n",
       "      <td>14.130701</td>\n",
       "      <td>14.532811</td>\n",
       "      <td>13.286995</td>\n",
       "      <td>16.976943</td>\n",
       "      <td>13.274383</td>\n",
       "      <td>0.0</td>\n",
       "      <td>9.890605</td>\n",
       "      <td>15.337588</td>\n",
       "      <td>17.073253</td>\n",
       "    </tr>\n",
       "  </tbody>\n",
       "</table>\n",
       "<p>5 rows × 100 columns</p>\n",
       "</div>"
      ],
      "text/plain": [
       "   Time     Line ThreeST    2ST       Actb       Bmi1       Bmp4      Bmp7  \\\n",
       "0     0  E14tg2a     ESC  alpha  16.720832  10.552399  11.137141  0.000000   \n",
       "1     0  E14tg2a     ESC  alpha  16.950440   7.819512  12.813427  8.644999   \n",
       "2     0  E14tg2a     ESC  alpha  16.585537   0.000000  12.467194  0.000000   \n",
       "3     0  E14tg2a     ESC  alpha  17.313634  10.094540  12.770269  0.000000   \n",
       "4     0  E14tg2a     ESC  alpha  17.735432   6.993295  13.490686  0.000000   \n",
       "\n",
       "      Bmpr1a      Cd34    ...           Tgm2      Trp53      Tubb3       Utf1  \\\n",
       "0  10.681368  0.000000    ...      10.199417  13.990968  12.947217   8.246675   \n",
       "1   9.971894  0.000000    ...       9.868370  11.882327  12.285330   0.000000   \n",
       "2  10.716559  0.000000    ...       0.000000  13.617123  13.325254   9.930650   \n",
       "3  10.812278  0.000000    ...       0.000000  13.639962  13.693003  13.277669   \n",
       "4  11.558709  8.776877    ...       0.000000  14.130701  14.532811  13.286995   \n",
       "\n",
       "         Vim       Wdr5  Wnt3a     Wnt5a     Zfp281      Zfp42  \n",
       "0  15.868633  12.380048    0.0  9.479991  12.918684  14.378189  \n",
       "1  15.984964  14.012475    0.0  0.000000  14.098621  16.309727  \n",
       "2  15.697888  13.530741    0.0  0.000000  14.342969  15.674892  \n",
       "3  16.627828  13.810295    0.0  0.000000  14.545973  16.712376  \n",
       "4  16.976943  13.274383    0.0  9.890605  15.337588  17.073253  \n",
       "\n",
       "[5 rows x 100 columns]"
      ]
     },
     "execution_count": 11,
     "metadata": {},
     "output_type": "execute_result"
    }
   ],
   "source": [
    "df3.head()"
   ]
  },
  {
   "cell_type": "code",
   "execution_count": 12,
   "metadata": {
    "collapsed": true
   },
   "outputs": [],
   "source": [
    "df3.to_csv('southhampton_annotated.csv')"
   ]
  },
  {
   "cell_type": "code",
   "execution_count": null,
   "metadata": {
    "collapsed": true
   },
   "outputs": [],
   "source": []
  }
 ],
 "metadata": {
  "kernelspec": {
   "display_name": "Python 3",
   "language": "python",
   "name": "python3"
  },
  "language_info": {
   "codemirror_mode": {
    "name": "ipython",
    "version": 3
   },
   "file_extension": ".py",
   "mimetype": "text/x-python",
   "name": "python",
   "nbconvert_exporter": "python",
   "pygments_lexer": "ipython3",
   "version": "3.6.3"
  }
 },
 "nbformat": 4,
 "nbformat_minor": 2
}
