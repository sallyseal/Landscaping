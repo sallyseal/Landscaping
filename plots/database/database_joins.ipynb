{
 "cells": [
  {
   "cell_type": "code",
   "execution_count": 1,
   "metadata": {},
   "outputs": [],
   "source": [
    "import pandas as pd"
   ]
  },
  {
   "cell_type": "code",
   "execution_count": 16,
   "metadata": {},
   "outputs": [],
   "source": [
    "df1 = pd.read_csv('database_exp_input_v2.csv')"
   ]
  },
  {
   "cell_type": "code",
   "execution_count": 17,
   "metadata": {},
   "outputs": [
    {
     "data": {
      "text/html": [
       "<div>\n",
       "<style scoped>\n",
       "    .dataframe tbody tr th:only-of-type {\n",
       "        vertical-align: middle;\n",
       "    }\n",
       "\n",
       "    .dataframe tbody tr th {\n",
       "        vertical-align: top;\n",
       "    }\n",
       "\n",
       "    .dataframe thead th {\n",
       "        text-align: right;\n",
       "    }\n",
       "</style>\n",
       "<table border=\"1\" class=\"dataframe\">\n",
       "  <thead>\n",
       "    <tr style=\"text-align: right;\">\n",
       "      <th></th>\n",
       "      <th>cell_type</th>\n",
       "      <th>Gene ID</th>\n",
       "      <th>ANK1</th>\n",
       "      <th>BIM/BCL2</th>\n",
       "      <th>CCDC124</th>\n",
       "      <th>CD105/ENG</th>\n",
       "      <th>CD110/MPL</th>\n",
       "      <th>CD117/KIT</th>\n",
       "      <th>CD34</th>\n",
       "      <th>CD36</th>\n",
       "      <th>...</th>\n",
       "      <th>SDPR</th>\n",
       "      <th>SELP</th>\n",
       "      <th>SPI1</th>\n",
       "      <th>SRD5A3</th>\n",
       "      <th>TAL1</th>\n",
       "      <th>TGFB1</th>\n",
       "      <th>TMEM180/MFSD13A</th>\n",
       "      <th>TMOD1</th>\n",
       "      <th>TUBB2A</th>\n",
       "      <th>VWF</th>\n",
       "    </tr>\n",
       "  </thead>\n",
       "  <tbody>\n",
       "    <tr>\n",
       "      <th>0</th>\n",
       "      <td>MEP</td>\n",
       "      <td>A1P1MEP-A1_a1p1</td>\n",
       "      <td>0.0</td>\n",
       "      <td>0.000000</td>\n",
       "      <td>0.000000</td>\n",
       "      <td>0.000000</td>\n",
       "      <td>22.715064</td>\n",
       "      <td>20.557057</td>\n",
       "      <td>20.543994</td>\n",
       "      <td>0.0</td>\n",
       "      <td>...</td>\n",
       "      <td>0.000000</td>\n",
       "      <td>19.967992</td>\n",
       "      <td>22.21347</td>\n",
       "      <td>23.137552</td>\n",
       "      <td>0.000000</td>\n",
       "      <td>17.218108</td>\n",
       "      <td>0.0000</td>\n",
       "      <td>0.0</td>\n",
       "      <td>0.000000</td>\n",
       "      <td>0.00000</td>\n",
       "    </tr>\n",
       "    <tr>\n",
       "      <th>1</th>\n",
       "      <td>MEP</td>\n",
       "      <td>A1P1MEP-A10_a1p1</td>\n",
       "      <td>0.0</td>\n",
       "      <td>24.374786</td>\n",
       "      <td>20.282405</td>\n",
       "      <td>20.630156</td>\n",
       "      <td>20.510992</td>\n",
       "      <td>0.000000</td>\n",
       "      <td>19.785585</td>\n",
       "      <td>0.0</td>\n",
       "      <td>...</td>\n",
       "      <td>0.000000</td>\n",
       "      <td>0.000000</td>\n",
       "      <td>0.00000</td>\n",
       "      <td>23.219575</td>\n",
       "      <td>20.428307</td>\n",
       "      <td>14.044520</td>\n",
       "      <td>20.8655</td>\n",
       "      <td>0.0</td>\n",
       "      <td>0.000000</td>\n",
       "      <td>16.59272</td>\n",
       "    </tr>\n",
       "    <tr>\n",
       "      <th>2</th>\n",
       "      <td>MEP</td>\n",
       "      <td>A1P1MEP-A11_a1p1</td>\n",
       "      <td>0.0</td>\n",
       "      <td>0.000000</td>\n",
       "      <td>0.000000</td>\n",
       "      <td>0.000000</td>\n",
       "      <td>0.000000</td>\n",
       "      <td>25.967066</td>\n",
       "      <td>26.195170</td>\n",
       "      <td>0.0</td>\n",
       "      <td>...</td>\n",
       "      <td>0.000000</td>\n",
       "      <td>31.375392</td>\n",
       "      <td>0.00000</td>\n",
       "      <td>0.000000</td>\n",
       "      <td>0.000000</td>\n",
       "      <td>23.485509</td>\n",
       "      <td>0.0000</td>\n",
       "      <td>0.0</td>\n",
       "      <td>0.000000</td>\n",
       "      <td>0.00000</td>\n",
       "    </tr>\n",
       "    <tr>\n",
       "      <th>3</th>\n",
       "      <td>MEP</td>\n",
       "      <td>A1P1MEP-A12_a1p1</td>\n",
       "      <td>0.0</td>\n",
       "      <td>0.000000</td>\n",
       "      <td>0.000000</td>\n",
       "      <td>0.000000</td>\n",
       "      <td>0.000000</td>\n",
       "      <td>0.000000</td>\n",
       "      <td>24.568299</td>\n",
       "      <td>0.0</td>\n",
       "      <td>...</td>\n",
       "      <td>0.000000</td>\n",
       "      <td>0.000000</td>\n",
       "      <td>0.00000</td>\n",
       "      <td>0.000000</td>\n",
       "      <td>0.000000</td>\n",
       "      <td>32.756533</td>\n",
       "      <td>0.0000</td>\n",
       "      <td>0.0</td>\n",
       "      <td>0.000000</td>\n",
       "      <td>0.00000</td>\n",
       "    </tr>\n",
       "    <tr>\n",
       "      <th>4</th>\n",
       "      <td>MEP</td>\n",
       "      <td>A1P1MEP-A2_a1p1</td>\n",
       "      <td>0.0</td>\n",
       "      <td>0.000000</td>\n",
       "      <td>0.000000</td>\n",
       "      <td>17.035436</td>\n",
       "      <td>0.000000</td>\n",
       "      <td>0.000000</td>\n",
       "      <td>15.959590</td>\n",
       "      <td>0.0</td>\n",
       "      <td>...</td>\n",
       "      <td>17.810128</td>\n",
       "      <td>0.000000</td>\n",
       "      <td>0.00000</td>\n",
       "      <td>0.000000</td>\n",
       "      <td>17.831410</td>\n",
       "      <td>13.391980</td>\n",
       "      <td>0.0000</td>\n",
       "      <td>0.0</td>\n",
       "      <td>18.505021</td>\n",
       "      <td>0.00000</td>\n",
       "    </tr>\n",
       "  </tbody>\n",
       "</table>\n",
       "<p>5 rows × 58 columns</p>\n",
       "</div>"
      ],
      "text/plain": [
       "  cell_type           Gene ID  ANK1   BIM/BCL2    CCDC124  CD105/ENG  \\\n",
       "0       MEP   A1P1MEP-A1_a1p1   0.0   0.000000   0.000000   0.000000   \n",
       "1       MEP  A1P1MEP-A10_a1p1   0.0  24.374786  20.282405  20.630156   \n",
       "2       MEP  A1P1MEP-A11_a1p1   0.0   0.000000   0.000000   0.000000   \n",
       "3       MEP  A1P1MEP-A12_a1p1   0.0   0.000000   0.000000   0.000000   \n",
       "4       MEP   A1P1MEP-A2_a1p1   0.0   0.000000   0.000000  17.035436   \n",
       "\n",
       "   CD110/MPL  CD117/KIT       CD34  CD36    ...          SDPR       SELP  \\\n",
       "0  22.715064  20.557057  20.543994   0.0    ...      0.000000  19.967992   \n",
       "1  20.510992   0.000000  19.785585   0.0    ...      0.000000   0.000000   \n",
       "2   0.000000  25.967066  26.195170   0.0    ...      0.000000  31.375392   \n",
       "3   0.000000   0.000000  24.568299   0.0    ...      0.000000   0.000000   \n",
       "4   0.000000   0.000000  15.959590   0.0    ...     17.810128   0.000000   \n",
       "\n",
       "       SPI1     SRD5A3       TAL1      TGFB1  TMEM180/MFSD13A  TMOD1  \\\n",
       "0  22.21347  23.137552   0.000000  17.218108           0.0000    0.0   \n",
       "1   0.00000  23.219575  20.428307  14.044520          20.8655    0.0   \n",
       "2   0.00000   0.000000   0.000000  23.485509           0.0000    0.0   \n",
       "3   0.00000   0.000000   0.000000  32.756533           0.0000    0.0   \n",
       "4   0.00000   0.000000  17.831410  13.391980           0.0000    0.0   \n",
       "\n",
       "      TUBB2A       VWF  \n",
       "0   0.000000   0.00000  \n",
       "1   0.000000  16.59272  \n",
       "2   0.000000   0.00000  \n",
       "3   0.000000   0.00000  \n",
       "4  18.505021   0.00000  \n",
       "\n",
       "[5 rows x 58 columns]"
      ]
     },
     "execution_count": 17,
     "metadata": {},
     "output_type": "execute_result"
    }
   ],
   "source": [
    "df1.head()"
   ]
  },
  {
   "cell_type": "code",
   "execution_count": 18,
   "metadata": {},
   "outputs": [
    {
     "data": {
      "text/plain": [
       "(807, 58)"
      ]
     },
     "execution_count": 18,
     "metadata": {},
     "output_type": "execute_result"
    }
   ],
   "source": [
    "df1.shape"
   ]
  },
  {
   "cell_type": "code",
   "execution_count": 19,
   "metadata": {},
   "outputs": [],
   "source": [
    "df2 = pd.read_csv('database_pca_input.csv')"
   ]
  },
  {
   "cell_type": "code",
   "execution_count": 20,
   "metadata": {},
   "outputs": [
    {
     "data": {
      "text/html": [
       "<div>\n",
       "<style scoped>\n",
       "    .dataframe tbody tr th:only-of-type {\n",
       "        vertical-align: middle;\n",
       "    }\n",
       "\n",
       "    .dataframe tbody tr th {\n",
       "        vertical-align: top;\n",
       "    }\n",
       "\n",
       "    .dataframe thead th {\n",
       "        text-align: right;\n",
       "    }\n",
       "</style>\n",
       "<table border=\"1\" class=\"dataframe\">\n",
       "  <thead>\n",
       "    <tr style=\"text-align: right;\">\n",
       "      <th></th>\n",
       "      <th>Gene ID</th>\n",
       "      <th>pc1</th>\n",
       "      <th>pc2</th>\n",
       "    </tr>\n",
       "  </thead>\n",
       "  <tbody>\n",
       "    <tr>\n",
       "      <th>0</th>\n",
       "      <td>A1P1MEP-A1_a1p1</td>\n",
       "      <td>-1.781985</td>\n",
       "      <td>-5.211681</td>\n",
       "    </tr>\n",
       "    <tr>\n",
       "      <th>1</th>\n",
       "      <td>A1P1MEP-A10_a1p1</td>\n",
       "      <td>2.210256</td>\n",
       "      <td>-3.907442</td>\n",
       "    </tr>\n",
       "    <tr>\n",
       "      <th>2</th>\n",
       "      <td>A1P1MEP-A11_a1p1</td>\n",
       "      <td>-3.899191</td>\n",
       "      <td>-3.029160</td>\n",
       "    </tr>\n",
       "    <tr>\n",
       "      <th>3</th>\n",
       "      <td>A1P1MEP-A12_a1p1</td>\n",
       "      <td>-2.355849</td>\n",
       "      <td>-2.516856</td>\n",
       "    </tr>\n",
       "    <tr>\n",
       "      <th>4</th>\n",
       "      <td>A1P1MEP-A2_a1p1</td>\n",
       "      <td>-1.656166</td>\n",
       "      <td>-2.563535</td>\n",
       "    </tr>\n",
       "  </tbody>\n",
       "</table>\n",
       "</div>"
      ],
      "text/plain": [
       "            Gene ID       pc1       pc2\n",
       "0   A1P1MEP-A1_a1p1 -1.781985 -5.211681\n",
       "1  A1P1MEP-A10_a1p1  2.210256 -3.907442\n",
       "2  A1P1MEP-A11_a1p1 -3.899191 -3.029160\n",
       "3  A1P1MEP-A12_a1p1 -2.355849 -2.516856\n",
       "4   A1P1MEP-A2_a1p1 -1.656166 -2.563535"
      ]
     },
     "execution_count": 20,
     "metadata": {},
     "output_type": "execute_result"
    }
   ],
   "source": [
    "df2.head()"
   ]
  },
  {
   "cell_type": "code",
   "execution_count": 21,
   "metadata": {},
   "outputs": [
    {
     "data": {
      "text/plain": [
       "(597, 3)"
      ]
     },
     "execution_count": 21,
     "metadata": {},
     "output_type": "execute_result"
    }
   ],
   "source": [
    "df2.shape"
   ]
  },
  {
   "cell_type": "code",
   "execution_count": 22,
   "metadata": {},
   "outputs": [],
   "source": [
    "df = df1.merge(df2, how='left', left_on='Gene ID', right_on='Gene ID', validate='1:1')"
   ]
  },
  {
   "cell_type": "code",
   "execution_count": 23,
   "metadata": {},
   "outputs": [
    {
     "data": {
      "text/plain": [
       "(807, 60)"
      ]
     },
     "execution_count": 23,
     "metadata": {},
     "output_type": "execute_result"
    }
   ],
   "source": [
    "df.shape"
   ]
  },
  {
   "cell_type": "code",
   "execution_count": 24,
   "metadata": {},
   "outputs": [],
   "source": [
    "df_new = df.fillna(0)"
   ]
  },
  {
   "cell_type": "code",
   "execution_count": 25,
   "metadata": {},
   "outputs": [
    {
     "data": {
      "text/html": [
       "<div>\n",
       "<style scoped>\n",
       "    .dataframe tbody tr th:only-of-type {\n",
       "        vertical-align: middle;\n",
       "    }\n",
       "\n",
       "    .dataframe tbody tr th {\n",
       "        vertical-align: top;\n",
       "    }\n",
       "\n",
       "    .dataframe thead th {\n",
       "        text-align: right;\n",
       "    }\n",
       "</style>\n",
       "<table border=\"1\" class=\"dataframe\">\n",
       "  <thead>\n",
       "    <tr style=\"text-align: right;\">\n",
       "      <th></th>\n",
       "      <th>cell_type</th>\n",
       "      <th>Gene ID</th>\n",
       "      <th>ANK1</th>\n",
       "      <th>BIM/BCL2</th>\n",
       "      <th>CCDC124</th>\n",
       "      <th>CD105/ENG</th>\n",
       "      <th>CD110/MPL</th>\n",
       "      <th>CD117/KIT</th>\n",
       "      <th>CD34</th>\n",
       "      <th>CD36</th>\n",
       "      <th>...</th>\n",
       "      <th>SPI1</th>\n",
       "      <th>SRD5A3</th>\n",
       "      <th>TAL1</th>\n",
       "      <th>TGFB1</th>\n",
       "      <th>TMEM180/MFSD13A</th>\n",
       "      <th>TMOD1</th>\n",
       "      <th>TUBB2A</th>\n",
       "      <th>VWF</th>\n",
       "      <th>pc1</th>\n",
       "      <th>pc2</th>\n",
       "    </tr>\n",
       "  </thead>\n",
       "  <tbody>\n",
       "    <tr>\n",
       "      <th>0</th>\n",
       "      <td>MEP</td>\n",
       "      <td>A1P1MEP-A1_a1p1</td>\n",
       "      <td>0.0</td>\n",
       "      <td>0.000000</td>\n",
       "      <td>0.000000</td>\n",
       "      <td>0.000000</td>\n",
       "      <td>22.715064</td>\n",
       "      <td>20.557057</td>\n",
       "      <td>20.543994</td>\n",
       "      <td>0.0</td>\n",
       "      <td>...</td>\n",
       "      <td>22.21347</td>\n",
       "      <td>23.137552</td>\n",
       "      <td>0.000000</td>\n",
       "      <td>17.218108</td>\n",
       "      <td>0.0000</td>\n",
       "      <td>0.0</td>\n",
       "      <td>0.000000</td>\n",
       "      <td>0.00000</td>\n",
       "      <td>-1.781985</td>\n",
       "      <td>-5.211681</td>\n",
       "    </tr>\n",
       "    <tr>\n",
       "      <th>1</th>\n",
       "      <td>MEP</td>\n",
       "      <td>A1P1MEP-A10_a1p1</td>\n",
       "      <td>0.0</td>\n",
       "      <td>24.374786</td>\n",
       "      <td>20.282405</td>\n",
       "      <td>20.630156</td>\n",
       "      <td>20.510992</td>\n",
       "      <td>0.000000</td>\n",
       "      <td>19.785585</td>\n",
       "      <td>0.0</td>\n",
       "      <td>...</td>\n",
       "      <td>0.00000</td>\n",
       "      <td>23.219575</td>\n",
       "      <td>20.428307</td>\n",
       "      <td>14.044520</td>\n",
       "      <td>20.8655</td>\n",
       "      <td>0.0</td>\n",
       "      <td>0.000000</td>\n",
       "      <td>16.59272</td>\n",
       "      <td>2.210256</td>\n",
       "      <td>-3.907442</td>\n",
       "    </tr>\n",
       "    <tr>\n",
       "      <th>2</th>\n",
       "      <td>MEP</td>\n",
       "      <td>A1P1MEP-A11_a1p1</td>\n",
       "      <td>0.0</td>\n",
       "      <td>0.000000</td>\n",
       "      <td>0.000000</td>\n",
       "      <td>0.000000</td>\n",
       "      <td>0.000000</td>\n",
       "      <td>25.967066</td>\n",
       "      <td>26.195170</td>\n",
       "      <td>0.0</td>\n",
       "      <td>...</td>\n",
       "      <td>0.00000</td>\n",
       "      <td>0.000000</td>\n",
       "      <td>0.000000</td>\n",
       "      <td>23.485509</td>\n",
       "      <td>0.0000</td>\n",
       "      <td>0.0</td>\n",
       "      <td>0.000000</td>\n",
       "      <td>0.00000</td>\n",
       "      <td>-3.899191</td>\n",
       "      <td>-3.029160</td>\n",
       "    </tr>\n",
       "    <tr>\n",
       "      <th>3</th>\n",
       "      <td>MEP</td>\n",
       "      <td>A1P1MEP-A12_a1p1</td>\n",
       "      <td>0.0</td>\n",
       "      <td>0.000000</td>\n",
       "      <td>0.000000</td>\n",
       "      <td>0.000000</td>\n",
       "      <td>0.000000</td>\n",
       "      <td>0.000000</td>\n",
       "      <td>24.568299</td>\n",
       "      <td>0.0</td>\n",
       "      <td>...</td>\n",
       "      <td>0.00000</td>\n",
       "      <td>0.000000</td>\n",
       "      <td>0.000000</td>\n",
       "      <td>32.756533</td>\n",
       "      <td>0.0000</td>\n",
       "      <td>0.0</td>\n",
       "      <td>0.000000</td>\n",
       "      <td>0.00000</td>\n",
       "      <td>-2.355849</td>\n",
       "      <td>-2.516856</td>\n",
       "    </tr>\n",
       "    <tr>\n",
       "      <th>4</th>\n",
       "      <td>MEP</td>\n",
       "      <td>A1P1MEP-A2_a1p1</td>\n",
       "      <td>0.0</td>\n",
       "      <td>0.000000</td>\n",
       "      <td>0.000000</td>\n",
       "      <td>17.035436</td>\n",
       "      <td>0.000000</td>\n",
       "      <td>0.000000</td>\n",
       "      <td>15.959590</td>\n",
       "      <td>0.0</td>\n",
       "      <td>...</td>\n",
       "      <td>0.00000</td>\n",
       "      <td>0.000000</td>\n",
       "      <td>17.831410</td>\n",
       "      <td>13.391980</td>\n",
       "      <td>0.0000</td>\n",
       "      <td>0.0</td>\n",
       "      <td>18.505021</td>\n",
       "      <td>0.00000</td>\n",
       "      <td>-1.656166</td>\n",
       "      <td>-2.563535</td>\n",
       "    </tr>\n",
       "  </tbody>\n",
       "</table>\n",
       "<p>5 rows × 60 columns</p>\n",
       "</div>"
      ],
      "text/plain": [
       "  cell_type           Gene ID  ANK1   BIM/BCL2    CCDC124  CD105/ENG  \\\n",
       "0       MEP   A1P1MEP-A1_a1p1   0.0   0.000000   0.000000   0.000000   \n",
       "1       MEP  A1P1MEP-A10_a1p1   0.0  24.374786  20.282405  20.630156   \n",
       "2       MEP  A1P1MEP-A11_a1p1   0.0   0.000000   0.000000   0.000000   \n",
       "3       MEP  A1P1MEP-A12_a1p1   0.0   0.000000   0.000000   0.000000   \n",
       "4       MEP   A1P1MEP-A2_a1p1   0.0   0.000000   0.000000  17.035436   \n",
       "\n",
       "   CD110/MPL  CD117/KIT       CD34  CD36    ...         SPI1     SRD5A3  \\\n",
       "0  22.715064  20.557057  20.543994   0.0    ...     22.21347  23.137552   \n",
       "1  20.510992   0.000000  19.785585   0.0    ...      0.00000  23.219575   \n",
       "2   0.000000  25.967066  26.195170   0.0    ...      0.00000   0.000000   \n",
       "3   0.000000   0.000000  24.568299   0.0    ...      0.00000   0.000000   \n",
       "4   0.000000   0.000000  15.959590   0.0    ...      0.00000   0.000000   \n",
       "\n",
       "        TAL1      TGFB1  TMEM180/MFSD13A  TMOD1     TUBB2A       VWF  \\\n",
       "0   0.000000  17.218108           0.0000    0.0   0.000000   0.00000   \n",
       "1  20.428307  14.044520          20.8655    0.0   0.000000  16.59272   \n",
       "2   0.000000  23.485509           0.0000    0.0   0.000000   0.00000   \n",
       "3   0.000000  32.756533           0.0000    0.0   0.000000   0.00000   \n",
       "4  17.831410  13.391980           0.0000    0.0  18.505021   0.00000   \n",
       "\n",
       "        pc1       pc2  \n",
       "0 -1.781985 -5.211681  \n",
       "1  2.210256 -3.907442  \n",
       "2 -3.899191 -3.029160  \n",
       "3 -2.355849 -2.516856  \n",
       "4 -1.656166 -2.563535  \n",
       "\n",
       "[5 rows x 60 columns]"
      ]
     },
     "execution_count": 25,
     "metadata": {},
     "output_type": "execute_result"
    }
   ],
   "source": [
    "df_new.head()"
   ]
  },
  {
   "cell_type": "code",
   "execution_count": 26,
   "metadata": {},
   "outputs": [
    {
     "data": {
      "text/plain": [
       "(807, 60)"
      ]
     },
     "execution_count": 26,
     "metadata": {},
     "output_type": "execute_result"
    }
   ],
   "source": [
    "df_new.shape"
   ]
  },
  {
   "cell_type": "code",
   "execution_count": 27,
   "metadata": {},
   "outputs": [],
   "source": [
    "df_new.to_csv('database_exp_input_v3.csv')"
   ]
  },
  {
   "cell_type": "code",
   "execution_count": null,
   "metadata": {},
   "outputs": [],
   "source": []
  },
  {
   "cell_type": "code",
   "execution_count": null,
   "metadata": {},
   "outputs": [],
   "source": []
  },
  {
   "cell_type": "code",
   "execution_count": null,
   "metadata": {},
   "outputs": [],
   "source": []
  },
  {
   "cell_type": "code",
   "execution_count": null,
   "metadata": {},
   "outputs": [],
   "source": []
  },
  {
   "cell_type": "code",
   "execution_count": 5,
   "metadata": {},
   "outputs": [],
   "source": [
    "# Checking why the populate_db merge is not working\n",
    "import pandas as pd\n",
    "\n",
    "exp_df = pd.read_csv('database_exp_input.csv')"
   ]
  },
  {
   "cell_type": "code",
   "execution_count": 6,
   "metadata": {},
   "outputs": [],
   "source": [
    "genes = exp_df.axes[1]\n",
    "melted = pd.melt(exp_df, id_vars='Gene ID')\n",
    "melted.rename(columns={'Gene ID': 'sample_id', 'variable': 'gene_id'},\n",
    "                      inplace=True)"
   ]
  },
  {
   "cell_type": "code",
   "execution_count": 7,
   "metadata": {},
   "outputs": [
    {
     "data": {
      "text/html": [
       "<div>\n",
       "<style scoped>\n",
       "    .dataframe tbody tr th:only-of-type {\n",
       "        vertical-align: middle;\n",
       "    }\n",
       "\n",
       "    .dataframe tbody tr th {\n",
       "        vertical-align: top;\n",
       "    }\n",
       "\n",
       "    .dataframe thead th {\n",
       "        text-align: right;\n",
       "    }\n",
       "</style>\n",
       "<table border=\"1\" class=\"dataframe\">\n",
       "  <thead>\n",
       "    <tr style=\"text-align: right;\">\n",
       "      <th></th>\n",
       "      <th>sample_id</th>\n",
       "      <th>gene_id</th>\n",
       "      <th>value</th>\n",
       "    </tr>\n",
       "  </thead>\n",
       "  <tbody>\n",
       "    <tr>\n",
       "      <th>0</th>\n",
       "      <td>A1P1MEP-A1_a1p1</td>\n",
       "      <td>ANK1</td>\n",
       "      <td>0.0</td>\n",
       "    </tr>\n",
       "    <tr>\n",
       "      <th>1</th>\n",
       "      <td>A1P1MEP-A10_a1p1</td>\n",
       "      <td>ANK1</td>\n",
       "      <td>0.0</td>\n",
       "    </tr>\n",
       "    <tr>\n",
       "      <th>2</th>\n",
       "      <td>A1P1MEP-A11_a1p1</td>\n",
       "      <td>ANK1</td>\n",
       "      <td>0.0</td>\n",
       "    </tr>\n",
       "    <tr>\n",
       "      <th>3</th>\n",
       "      <td>A1P1MEP-A12_a1p1</td>\n",
       "      <td>ANK1</td>\n",
       "      <td>0.0</td>\n",
       "    </tr>\n",
       "    <tr>\n",
       "      <th>4</th>\n",
       "      <td>A1P1MEP-A2_a1p1</td>\n",
       "      <td>ANK1</td>\n",
       "      <td>0.0</td>\n",
       "    </tr>\n",
       "  </tbody>\n",
       "</table>\n",
       "</div>"
      ],
      "text/plain": [
       "          sample_id gene_id  value\n",
       "0   A1P1MEP-A1_a1p1    ANK1    0.0\n",
       "1  A1P1MEP-A10_a1p1    ANK1    0.0\n",
       "2  A1P1MEP-A11_a1p1    ANK1    0.0\n",
       "3  A1P1MEP-A12_a1p1    ANK1    0.0\n",
       "4   A1P1MEP-A2_a1p1    ANK1    0.0"
      ]
     },
     "execution_count": 7,
     "metadata": {},
     "output_type": "execute_result"
    }
   ],
   "source": [
    "melted.head()"
   ]
  },
  {
   "cell_type": "code",
   "execution_count": 8,
   "metadata": {},
   "outputs": [
    {
     "data": {
      "text/plain": [
       "(45192, 3)"
      ]
     },
     "execution_count": 8,
     "metadata": {},
     "output_type": "execute_result"
    }
   ],
   "source": [
    "melted.shape"
   ]
  },
  {
   "cell_type": "code",
   "execution_count": null,
   "metadata": {},
   "outputs": [],
   "source": [
    "summary_df"
   ]
  }
 ],
 "metadata": {
  "kernelspec": {
   "display_name": "Python 3",
   "language": "python",
   "name": "python3"
  },
  "language_info": {
   "codemirror_mode": {
    "name": "ipython",
    "version": 3
   },
   "file_extension": ".py",
   "mimetype": "text/x-python",
   "name": "python",
   "nbconvert_exporter": "python",
   "pygments_lexer": "ipython3",
   "version": "3.6.4"
  }
 },
 "nbformat": 4,
 "nbformat_minor": 2
}
